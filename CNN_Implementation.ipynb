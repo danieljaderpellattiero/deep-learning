{
 "cells": [
  {
   "cell_type": "markdown",
   "metadata": {
    "id": "gcGgHs2tPwnX"
   },
   "source": [
    "### Implementing a Convolutional Neural Network\n",
    "In this exercise, we will develop a convolutional neural network to perform classification, and test it out on cifar-10 dataset. 😀"
   ]
  },
  {
   "cell_type": "code",
   "metadata": {
    "id": "NAL_RKH5Pv7a",
    "ExecuteTime": {
     "end_time": "2025-04-09T07:15:59.941768Z",
     "start_time": "2025-04-09T07:15:57.379930Z"
    }
   },
   "source": [
    "# A bit of a set-up\n",
    "\n",
    "import torch\n",
    "import torch.nn as nn\n",
    "import torchvision\n",
    "import torchvision.transforms as transforms\n",
    "\n",
    "device = torch.device('cuda:0' if torch.cuda.is_available() else 'cpu')\n",
    "print(device)"
   ],
   "outputs": [
    {
     "name": "stdout",
     "output_type": "stream",
     "text": [
      "cuda:0\n"
     ]
    }
   ],
   "execution_count": 1
  },
  {
   "cell_type": "code",
   "metadata": {
    "id": "_JQoiu7yPj9e",
    "ExecuteTime": {
     "end_time": "2025-04-09T07:16:02.827203Z",
     "start_time": "2025-04-09T07:16:02.823176Z"
    }
   },
   "source": [
    "# Image Preprocessing\n",
    "transform_train = transforms.Compose([\n",
    "    transforms.RandomCrop(32, padding=4),\n",
    "    transforms.RandomHorizontalFlip(),\n",
    "    transforms.ToTensor(),\n",
    "    transforms.Normalize((0.4914, 0.4822, 0.4465), (0.2023, 0.1994, 0.2010)),\n",
    "])\n",
    "\n",
    "transform_test = transforms.Compose([\n",
    "    transforms.ToTensor(),\n",
    "    transforms.Normalize((0.4914, 0.4822, 0.4465), (0.2023, 0.1994, 0.2010)),\n",
    "])"
   ],
   "outputs": [],
   "execution_count": 2
  },
  {
   "cell_type": "code",
   "metadata": {
    "colab": {
     "base_uri": "https://localhost:8080/"
    },
    "id": "G49tsijMQquf",
    "outputId": "2648d8c7-01d5-485d-c5ab-5e3190f6befa",
    "ExecuteTime": {
     "end_time": "2025-04-09T07:16:07.330267Z",
     "start_time": "2025-04-09T07:16:06.027919Z"
    }
   },
   "source": [
    "# CIFAR-10 Dataset\n",
    "train_dataset = torchvision.datasets.CIFAR10(root='./data/',\n",
    "                                             train=True,\n",
    "                                             transform=transform_train,\n",
    "                                             download=True) # Change Download-flag \"True\" at the first excution.\n",
    "\n",
    "test_dataset = torchvision.datasets.CIFAR10(root='./data/',\n",
    "                                            train=False,\n",
    "                                            transform=transform_test)\n",
    "\n",
    "\n",
    "# data loader\n",
    "train_loader = torch.utils.data.DataLoader(dataset=train_dataset,\n",
    "                                           batch_size=100,\n",
    "                                           shuffle=True)\n",
    "test_loader = torch.utils.data.DataLoader(dataset=test_dataset,\n",
    "                                          batch_size=100,\n",
    "                                          shuffle=False)"
   ],
   "outputs": [],
   "execution_count": 3
  },
  {
   "metadata": {},
   "cell_type": "code",
   "source": [
    "print(train_dataset)\n",
    "print(test_dataset)"
   ],
   "outputs": [],
   "execution_count": null
  },
  {
   "cell_type": "markdown",
   "metadata": {
    "id": "kNO65w0uTVRQ"
   },
   "source": [
    "### Training VGG Model\n",
    "Here, we have already filled out the `VGG Networks` for you.\n",
    "Practice training the model with this network."
   ]
  },
  {
   "cell_type": "code",
   "metadata": {
    "id": "yhr7GcUATPKg",
    "ExecuteTime": {
     "end_time": "2025-04-09T07:16:11.634143Z",
     "start_time": "2025-04-09T07:16:11.628721Z"
    }
   },
   "source": [
    "import math\n",
    "\n",
    "class VGG(nn.Module):\n",
    "    def __init__(self, features):\n",
    "        super(VGG, self).__init__()\n",
    "        self.features = features\n",
    "        self.classifier = nn.Sequential(\n",
    "            nn.Dropout(),\n",
    "            nn.Linear(512, 512),\n",
    "            nn.BatchNorm1d(512),\n",
    "            nn.ReLU(True),\n",
    "            nn.Dropout(),\n",
    "            nn.Linear(512, 10),\n",
    "        )\n",
    "         # Initialize weights\n",
    "        for m in self.modules():\n",
    "            if isinstance(m, nn.Conv2d):\n",
    "                n = m.kernel_size[0] * m.kernel_size[1] * m.out_channels\n",
    "                m.weight.data.normal_(0, math.sqrt(2. / n))\n",
    "                m.bias.data.zero_()\n",
    "\n",
    "    def forward(self, x):\n",
    "        x = self.features(x)\n",
    "        x = x.view(x.size(0), -1)\n",
    "        x = self.classifier(x)\n",
    "        return x\n",
    "\n",
    "def make_layers(cfg, batch_norm=False):\n",
    "    layers = []\n",
    "    in_channels = 3\n",
    "    for v in cfg:\n",
    "        if v == 'M':\n",
    "            layers += [nn.MaxPool2d(kernel_size=2, stride=2)]\n",
    "        else:\n",
    "            conv2d = nn.Conv2d(in_channels, v, kernel_size=3, padding=1)\n",
    "            if batch_norm:\n",
    "                layers += [conv2d, nn.BatchNorm2d(v), nn.ReLU(inplace=True)]\n",
    "            else:\n",
    "                layers += [conv2d, nn.ReLU(inplace=True)]\n",
    "            in_channels = v\n",
    "    return nn.Sequential(*layers)\n",
    "\n",
    "def vgg16():\n",
    "    # cfg shows 'kernel size'\n",
    "    # 'M' means 'max pooling'\n",
    "    cfg = [64, 64, 'M', 128, 128, 'M', 256, 256, 256, 'M', 512, 512, 512, 'M', 512, 512, 512, 'M']\n",
    "    return VGG(make_layers(cfg))"
   ],
   "outputs": [],
   "execution_count": 4
  },
  {
   "cell_type": "markdown",
   "metadata": {
    "id": "tUZbhBp8WEpn"
   },
   "source": [
    "Here's the training part. It should take a while for training.(30 mins-1 hour)"
   ]
  },
  {
   "cell_type": "code",
   "metadata": {
    "colab": {
     "base_uri": "https://localhost:8080/"
    },
    "id": "X919NTOMTpwM",
    "outputId": "c6dc4a73-ec46-4f51-fb4c-a5af0b60a319",
    "ExecuteTime": {
     "end_time": "2025-04-09T07:16:55.761669Z",
     "start_time": "2025-04-09T07:16:21.603280Z"
    }
   },
   "source": [
    "model = vgg16().to(device)\n",
    "PATH = './vgg16_epoch250.ckpt'\n",
    "\n",
    "checkpoint = torch.load(PATH, map_location=torch.device('cpu'))\n",
    "model.load_state_dict(checkpoint)\n",
    "\n",
    "# Hyper-parameters\n",
    "num_epochs = 1 \n",
    "learning_rate = 0.001\n",
    "\n",
    "# Loss and optimizer\n",
    "criterion = nn.CrossEntropyLoss()\n",
    "optimizer = torch.optim.Adam(model.parameters(), lr=learning_rate)\n",
    "\n",
    "# For updating learning rate\n",
    "def update_lr(optimizer, lr):\n",
    "    for param_group in optimizer.param_groups:\n",
    "        param_group['lr'] = lr\n",
    "\n",
    "# Train the model\n",
    "total_step = len(train_loader)\n",
    "current_lr = learning_rate\n",
    "\n",
    "for epoch in range(num_epochs):\n",
    "\n",
    "    model.train()\n",
    "    train_loss = 0\n",
    "\n",
    "    for batch_index, (images, labels) in enumerate(train_loader):\n",
    "        # print(images.shape)\n",
    "        images = images.to(device)  # \"images\" = \"inputs\"\n",
    "        labels = labels.to(device)  # \"labels\" = \"targets\"\n",
    "\n",
    "        # Forward pass\n",
    "        outputs = model(images)\n",
    "        loss = criterion(outputs, labels)\n",
    "\n",
    "        # Backward and optimize\n",
    "        optimizer.zero_grad()\n",
    "        loss.backward()\n",
    "        optimizer.step()\n",
    "\n",
    "        train_loss += loss.item()\n",
    "\n",
    "        if (batch_index + 1) % 100 == 0:\n",
    "            print(\"Epoch [{}/{}], Step [{}/{}] Loss: {:.4f}\"\n",
    "                  .format(epoch + 1, num_epochs, batch_index + 1, total_step, train_loss / (batch_index + 1)))\n",
    "\n",
    "    # Decay learning rate\n",
    "    if (epoch + 1) % 20 == 0:\n",
    "        current_lr /= 3\n",
    "        update_lr(optimizer, current_lr)\n",
    "        torch.save(model.state_dict(), './vgg16_epoch' + str(epoch+1)+'.ckpt')\n",
    "\n",
    "# Save the model checkpoint\n",
    "torch.save(model.state_dict(), './vgg16_final.ckpt')\n",
    "\n",
    "model.eval()\n",
    "with torch.no_grad():\n",
    "    correct = 0\n",
    "    total = 0\n",
    "    for images, labels in test_loader:\n",
    "        images = images.to(device)\n",
    "        labels = labels.to(device)\n",
    "        outputs = model(images)\n",
    "        _, predicted = torch.max(outputs.data, 1)\n",
    "        total += labels.size(0)\n",
    "        correct += (predicted == labels).sum().item()\n",
    "\n",
    "    print('Accuracy of the model on the test images: {} %'.format(100 * correct / total))"
   ],
   "outputs": [
    {
     "name": "stdout",
     "output_type": "stream",
     "text": [
      "Epoch [1/1], Step [100/500] Loss: 0.1930\n",
      "Epoch [1/1], Step [200/500] Loss: 0.1841\n",
      "Epoch [1/1], Step [300/500] Loss: 0.1887\n",
      "Epoch [1/1], Step [400/500] Loss: 0.1888\n",
      "Epoch [1/1], Step [500/500] Loss: 0.1895\n",
      "Accuracy of the model on the test images: 86.42 %\n"
     ]
    }
   ],
   "execution_count": 5
  },
  {
   "cell_type": "markdown",
   "metadata": {
    "id": "nD5VbNYcTxmz"
   },
   "source": [
    "You must get about 85% accuracy for testing."
   ]
  },
  {
   "cell_type": "markdown",
   "metadata": {
    "id": "Bd8gnC0Uig4D"
   },
   "source": [
    "### Training Resnet-50 Model\n",
    "Here, we will implement Resnet-50 Model."
   ]
  },
  {
   "cell_type": "code",
   "metadata": {
    "id": "ixTtgBXDjad5",
    "ExecuteTime": {
     "end_time": "2025-04-09T07:26:53.959580Z",
     "start_time": "2025-04-09T07:26:53.956263Z"
    }
   },
   "source": [
    "def conv1x1(in_channels, out_channels, stride, padding):\n",
    "\t\tmodel = nn.Sequential(\n",
    "\t\t\t\tnn.Conv2d(in_channels, out_channels, kernel_size=1, stride=stride, padding=padding),\n",
    "\t\t\t\tnn.BatchNorm2d(out_channels),\n",
    "\t\t\t\tnn.ReLU(inplace=True)\n",
    "\t\t)\n",
    "\t\treturn model\n",
    "\n",
    "def conv3x3(in_channels, out_channels, stride, padding):\n",
    "\t\tmodel = nn.Sequential(\n",
    "\t\t\t\tnn.Conv2d(in_channels, out_channels, kernel_size=3, stride=stride, padding=padding),\n",
    "\t\t\t\tnn.BatchNorm2d(out_channels),\n",
    "\t\t\t\tnn.ReLU(inplace=True)\n",
    "\t\t)\n",
    "\t\treturn model"
   ],
   "outputs": [],
   "execution_count": 14
  },
  {
   "cell_type": "code",
   "metadata": {
    "id": "ehngaZUsj876",
    "ExecuteTime": {
     "end_time": "2025-04-09T07:26:55.916327Z",
     "start_time": "2025-04-09T07:26:55.911464Z"
    }
   },
   "source": [
    "class ResidualBlock(nn.Module):\n",
    "\t\tdef __init__(self, in_channels, middle_channels, out_channels, downsample=False):\n",
    "\t\t\t\tsuper(ResidualBlock, self).__init__()\n",
    "\t\t\t\tself.downsample = downsample\n",
    "\n",
    "\t\t\t\tif self.downsample:\n",
    "\t\t\t\t\t\tself.layer = nn.Sequential(\n",
    "\t\t\t\t\t\t\t\tconv1x1(in_channels, middle_channels, 2, 0),\n",
    "\t\t\t\t\t\t\t\tconv3x3(middle_channels, middle_channels, 1, 1),\n",
    "\t\t\t\t\t\t\t\tconv1x1(middle_channels, out_channels, 1, 0)\n",
    "\t\t\t\t\t\t)\n",
    "\t\t\t\t\t\tself.downsize = conv1x1(in_channels, out_channels, 2, 0)\n",
    "\t\t\t\telse:\n",
    "\t\t\t\t\t\tself.layer = nn.Sequential(\n",
    "\t\t\t\t\t\t\t\tconv1x1(in_channels, middle_channels, 1, 0),\n",
    "\t\t\t\t\t\t\t\tconv3x3(middle_channels, middle_channels, 1, 1),\n",
    "\t\t\t\t\t\t\t\tconv1x1(middle_channels, out_channels, 1, 0)\n",
    "\t\t\t\t\t\t)\n",
    "\t\t\t\t\t\tself.make_equal_channel = conv1x1(in_channels, out_channels, 1, 0)\n",
    "\n",
    "\t\tdef forward(self, x):\n",
    "\t\t\t\tif self.downsample:\n",
    "\t\t\t\t\t\tout = self.layer(x)\n",
    "\t\t\t\t\t\tx = self.downsize(x)\n",
    "\t\t\t\t\t\treturn out + x\n",
    "\t\t\t\telse:\n",
    "\t\t\t\t\t\tout = self.layer(x)\n",
    "\t\t\t\t\t\tif x.size() is not out.size():\n",
    "\t\t\t\t\t\t\t\tx = self.make_equal_channel(x)\n",
    "\t\t\t\t\t\treturn out + x"
   ],
   "outputs": [],
   "execution_count": 15
  },
  {
   "cell_type": "code",
   "metadata": {
    "id": "cMchupF7kBZy",
    "ExecuteTime": {
     "end_time": "2025-04-09T07:26:58.928672Z",
     "start_time": "2025-04-09T07:26:58.920708Z"
    }
   },
   "source": [
    "class ResNet50_layer4(nn.Module):\n",
    "\t\tdef __init__(self, num_classes=10):\n",
    "\t\t\t\tsuper(ResNet50_layer4, self).__init__()\n",
    "\t\t\t\tself.layer1 = nn.Sequential(\n",
    "\t\t\t\t\t\tnn.Conv2d(3, 64, kernel_size=7, stride=2, padding=3),\n",
    "\t\t\t\t\t\tnn.BatchNorm2d(64),\n",
    "\t\t\t\t\t\tnn.ReLU(inplace=True),\n",
    "\t\t\t\t\t\tnn.MaxPool2d(kernel_size=3, stride=2, padding=1)\n",
    "\t\t\t\t)\n",
    "\t\t\t\tself.layer2 = nn.Sequential(\n",
    "\t\t\t\t\t\tResidualBlock(64, 64, 256, downsample=False),\n",
    "\t\t\t\t\t\tResidualBlock(256, 64, 256, downsample=False),\n",
    "\t\t\t\t\t\tResidualBlock(256, 64, 256, downsample=True),\n",
    "\t\t\t\t)\n",
    "\t\t\t\tself.layer3 = nn.Sequential(\n",
    "\t\t\t\t\t\tResidualBlock(256, 128, 512, downsample=False),\n",
    "\t\t\t\t\t\tResidualBlock(512, 128, 512, downsample=False),\n",
    "\t\t\t\t\t\tResidualBlock(512, 128, 512, downsample=False),\n",
    "\t\t\t\t\t\tResidualBlock(512, 128, 512, downsample=True),\n",
    "\t\t\t\t)\n",
    "\t\t\t\tself.layer4 = nn.Sequential(\n",
    "\t\t\t\t\t\tResidualBlock(512, 256, 1024, downsample=False),\n",
    "\t\t\t\t\t\tResidualBlock(1024, 256, 1024, downsample=False),\n",
    "\t\t\t\t\t\tResidualBlock(1024, 256, 1024, downsample=False),\n",
    "\t\t\t\t\t\tResidualBlock(1024, 256, 1024, downsample=False),\n",
    "\t\t\t\t\t\tResidualBlock(1024, 256, 1024, downsample=False),\n",
    "\t\t\t\t\t\tResidualBlock(1024, 256, 1024, downsample=False),\n",
    "\t\t\t\t)\n",
    "\n",
    "\t\t\t\tself.avgpool = nn.AvgPool2d(kernel_size=2, stride=2, padding=0)\n",
    "\t\t\t\tself.fc = nn.Linear(1024, num_classes)\n",
    "\n",
    "\t\t\t\tfor m in self.modules():\n",
    "\t\t\t\t\t\tif isinstance(m, nn.Linear):\n",
    "\t\t\t\t\t\t\t\tnn.init.xavier_uniform_(m.weight.data)\n",
    "\t\t\t\t\t\telif isinstance(m, nn.Conv2d):\n",
    "\t\t\t\t\t\t\t\tnn.init.xavier_uniform_(m.weight.data)\n",
    "\n",
    "\t\tdef forward(self, x):\n",
    "\n",
    "\t\t\t\tout = self.layer1(x)\n",
    "\t\t\t\tout = self.layer2(out)\n",
    "\t\t\t\tout = self.layer3(out)\n",
    "\t\t\t\tout = self.layer4(out)\n",
    "\t\t\t\tout = self.avgpool(out)\n",
    "\t\t\t\tout = out.view(out.size()[0], -1)\n",
    "\t\t\t\tout = self.fc(out)\n",
    "\n",
    "\t\t\t\treturn out\n"
   ],
   "outputs": [],
   "execution_count": 16
  },
  {
   "cell_type": "markdown",
   "metadata": {
    "id": "USm9xs6rkLkQ"
   },
   "source": [
    "Now, let's train the model. It should take a while for training. (20-30mins)"
   ]
  },
  {
   "cell_type": "code",
   "metadata": {
    "colab": {
     "base_uri": "https://localhost:8080/"
    },
    "id": "jvTFZCZXkN8V",
    "outputId": "59bcc11e-15af-4681-a153-d9d989ee0a12",
    "ExecuteTime": {
     "end_time": "2025-04-09T07:27:39.662696Z",
     "start_time": "2025-04-09T07:27:06.585927Z"
    }
   },
   "source": [
    "model = ResNet50_layer4().to(device)\n",
    "PATH = './resnet50_epoch285.ckpt' # test acc would be almost 80\n",
    "\n",
    "checkpoint = torch.load(PATH, map_location=torch.device('cpu'))\n",
    "model.load_state_dict(checkpoint)\n",
    "\n",
    "# Hyper-parameters\n",
    "num_epochs = 1\n",
    "learning_rate = 0.001\n",
    "\n",
    "# Loss and optimizer\n",
    "criterion = nn.CrossEntropyLoss()\n",
    "optimizer = torch.optim.Adam(model.parameters(), lr=learning_rate)\n",
    "\n",
    "# For updating learning rate\n",
    "def update_lr(optimizer, lr):\n",
    "    for param_group in optimizer.param_groups:\n",
    "        param_group['lr'] = lr\n",
    "\n",
    "# Train the model\n",
    "total_step = len(train_loader)\n",
    "current_lr = learning_rate\n",
    "\n",
    "for epoch in range(num_epochs):\n",
    "\n",
    "    model.train()\n",
    "    train_loss = 0\n",
    "\n",
    "    for batch_index, (images, labels) in enumerate(train_loader):\n",
    "        # print(images.shape)\n",
    "        images = images.to(device)  # \"images\" = \"inputs\"\n",
    "        labels = labels.to(device)  # \"labels\" = \"targets\"\n",
    "\n",
    "        # Forward pass\n",
    "        outputs = model(images)\n",
    "        loss = criterion(outputs, labels)\n",
    "\n",
    "        # Backward and optimize\n",
    "        optimizer.zero_grad()\n",
    "        loss.backward()\n",
    "        optimizer.step()\n",
    "\n",
    "        train_loss += loss.item()\n",
    "\n",
    "        if (batch_index + 1) % 100 == 0:\n",
    "            print(\"Epoch [{}/{}], Step [{}/{}] Loss: {:.4f}\"\n",
    "                  .format(epoch + 1, num_epochs, batch_index + 1, total_step, train_loss / (batch_index + 1)))\n",
    "\n",
    "    # Decay learning rate\n",
    "    if (epoch + 1) % 20 == 0:\n",
    "        current_lr /= 3\n",
    "        update_lr(optimizer, current_lr)\n",
    "        torch.save(model.state_dict(), './resnet50_epoch' + str(epoch+1)+'.ckpt')\n",
    "\n",
    "# Save the model checkpoint\n",
    "torch.save(model.state_dict(), './resnet50_final.ckpt')\n",
    "\n",
    "model.eval()\n",
    "with torch.no_grad():\n",
    "    correct = 0\n",
    "    total = 0\n",
    "    for images, labels in test_loader:\n",
    "        images = images.to(device)\n",
    "        labels = labels.to(device)\n",
    "        outputs = model(images)\n",
    "        _, predicted = torch.max(outputs.data, 1)\n",
    "        total += labels.size(0)\n",
    "        correct += (predicted == labels).sum().item()\n",
    "\n",
    "    print('Accuracy of the model on the test images: {} %'.format(100 * correct / total))"
   ],
   "outputs": [
    {
     "name": "stdout",
     "output_type": "stream",
     "text": [
      "Epoch [1/1], Step [100/500] Loss: 0.2742\n",
      "Epoch [1/1], Step [200/500] Loss: 0.2829\n",
      "Epoch [1/1], Step [300/500] Loss: 0.2923\n",
      "Epoch [1/1], Step [400/500] Loss: 0.2955\n",
      "Epoch [1/1], Step [500/500] Loss: 0.2999\n",
      "Accuracy of the model on the test images: 81.41 %\n"
     ]
    }
   ],
   "execution_count": 17
  },
  {
   "cell_type": "markdown",
   "metadata": {
    "id": "tGuEuMpGton5"
   },
   "source": [
    "You must get about 80% accuracy for testing."
   ]
  }
 ],
 "metadata": {
  "colab": {
   "provenance": []
  },
  "kernelspec": {
   "display_name": "Python 3 (ipykernel)",
   "name": "python3",
   "language": "python"
  },
  "language_info": {
   "name": "python"
  }
 },
 "nbformat": 4,
 "nbformat_minor": 0
}
